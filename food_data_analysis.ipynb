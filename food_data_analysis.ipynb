{
 "cells": [
  {
   "cell_type": "markdown",
   "id": "8dead393",
   "metadata": {},
   "source": [
    "# Análisis del Dataset de Alimentos"
   ]
  },
  {
   "cell_type": "code",
   "execution_count": null,
   "id": "ccd75d34",
   "metadata": {},
   "outputs": [],
   "source": [
    "import pandas as pd\n",
    "\n",
    "# Load the dataset\n",
    "file_path = '/mnt/data/FOOD-DATA-GROUP1.csv'\n",
    "data = pd.read_csv(file_path)\n",
    "\n",
    "# Display basic information about the dataset\n",
    "data_info = data.info()\n",
    "data_description = data.describe()\n",
    "\n",
    "# Extract a brief description of what five columns represent\n",
    "columns_description = {\n",
    "    'Caloric Value': 'Representa la cantidad de calorías en el alimento, medida en kilocalorías (kcal).',\n",
    "    'Fat': 'Indica la cantidad total de grasa en el alimento, medida en gramos (g).',\n",
    "    'Carbohydrates': 'Mide la cantidad de carbohidratos presentes en el alimento, en gramos (g).',\n",
    "    'Protein': 'Representa la cantidad de proteínas en el alimento, en gramos (g).',\n",
    "    'Sodium': 'Indica la cantidad de sodio en el alimento, medida en miligramos (mg).',\n",
    "}\n",
    "\n",
    "data_info, data_description, columns_description"
   ]
  },
  {
   "cell_type": "markdown",
   "id": "3056cde5",
   "metadata": {},
   "source": [
    "## Estadísticas del Dataset"
   ]
  },
  {
   "cell_type": "code",
   "execution_count": null,
   "id": "e942bce3",
   "metadata": {},
   "outputs": [],
   "source": [
    "# Display dataset statistics\n",
    "data_description"
   ]
  },
  {
   "cell_type": "markdown",
   "id": "f730a6d8",
   "metadata": {},
   "source": [
    "## Descripción de Columnas Seleccionadas"
   ]
  },
  {
   "cell_type": "code",
   "execution_count": null,
   "id": "3e65f4f9",
   "metadata": {},
   "outputs": [],
   "source": [
    "# Display description of selected columns\n",
    "columns_description"
   ]
  },
  {
   "cell_type": "markdown",
   "id": "f4e7e1f2",
   "metadata": {},
   "source": [
    "## Columnas recomendadas para modelos de machine learning"
   ]
  },
  {
   "cell_type": "code",
   "execution_count": null,
   "id": "7958be4b",
   "metadata": {},
   "outputs": [],
   "source": [
    "# Recommended columns for machine learning\n",
    "ml_columns = [\"Caloric Value\", \"Fat\", \"Carbohydrates\", \"Protein\", \"Sodium\"]\n",
    "ml_columns"
   ]
  },
  {
   "cell_type": "markdown",
   "id": "83ad5454",
   "metadata": {},
   "source": [
    "## Generación del Informe en PDF"
   ]
  },
  {
   "cell_type": "code",
   "execution_count": null,
   "id": "74849f53",
   "metadata": {},
   "outputs": [],
   "source": [
    "from fpdf import FPDF\n",
    "\n",
    "# Create PDF document\n",
    "pdf = FPDF()\n",
    "pdf.add_page()\n",
    "pdf.set_font(\"Arial\", size=12)\n",
    "\n",
    "# Add title\n",
    "pdf.cell(200, 10, txt=\"Análisis del Dataset de Alimentos\", ln=True, align='C')\n",
    "\n",
    "# Add basic information\n",
    "pdf.cell(200, 10, txt=\"Tipos de datos:\", ln=True, align='L')\n",
    "pdf.cell(200, 10, txt=str(data.dtypes), ln=True, align='L')\n",
    "\n",
    "pdf.cell(200, 10, txt=\"Cantidad de columnas (campos): 37\", ln=True, align='L')\n",
    "pdf.cell(200, 10, txt=\"Cantidad de filas (registros): 551\", ln=True, align='L')\n",
    "\n",
    "# Add statistics\n",
    "pdf.cell(200, 10, txt=\"Estadísticas del dataset:\", ln=True, align='L')\n",
    "pdf.cell(200, 10, txt=str(data_description), ln=True, align='L')\n",
    "\n",
    "# Add columns description\n",
    "pdf.cell(200, 10, txt=\"Descripción de cinco columnas:\", ln=True, align='L')\n",
    "for column, description in columns_description.items():\n",
    "    pdf.cell(200, 10, txt=f\"{column}: {description}\", ln=True, align='L')\n",
    "\n",
    "# Add ML columns\n",
    "pdf.cell(200, 10, txt=\"Columnas recomendadas para modelos de machine learning:\", ln=True, align='L')\n",
    "pdf.cell(200, 10, txt=\"Objetivo: Predecir el valor nutricional de un alimento o recomendar alimentos saludables.\", ln=True, align='L')\n",
    "pdf.cell(200, 10, txt=\"Columnas como entrada:\", ln=True, align='L')\n",
    "for col in ml_columns:\n",
    "    pdf.cell(200, 10, txt=f\"- {col}\", ln=True, align='L')\n",
    "\n",
    "# Save PDF\n",
    "pdf_output_path = \"/mnt/data/food_data_analysis.pdf\"\n",
    "pdf.output(pdf_output_path)"
   ]
  }
 ],
 "metadata": {},
 "nbformat": 4,
 "nbformat_minor": 5
}
